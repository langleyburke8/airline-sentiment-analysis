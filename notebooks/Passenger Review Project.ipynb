{
 "cells": [
  {
   "cell_type": "markdown",
   "metadata": {},
   "source": [
    "# Airline Review Sentiment Project "
   ]
  },
  {
   "cell_type": "code",
   "execution_count": 1,
   "metadata": {},
   "outputs": [
    {
     "name": "stderr",
     "output_type": "stream",
     "text": [
      "/Users/langleyburke/Airline Sentiment Analysis Files  2/utils.py:15: SyntaxWarning: invalid escape sequence '\\$'\n",
      "  REGEX_TICKER = re.compile('\\$[a-zA-Z]+')\n",
      "/Users/langleyburke/Airline Sentiment Analysis Files  2/utils.py:16: SyntaxWarning: invalid escape sequence '\\@'\n",
      "  REGEX_USER = re.compile('\\@\\w+')\n",
      "/Users/langleyburke/Airline Sentiment Analysis Files  2/utils.py:17: SyntaxWarning: invalid escape sequence '\\/'\n",
      "  REGEX_LINK = re.compile('https?:\\/\\/[^\\s]+')\n",
      "/Users/langleyburke/Airline Sentiment Analysis Files  2/utils.py:18: SyntaxWarning: invalid escape sequence '\\&'\n",
      "  REGEX_HTML_ENTITY = re.compile('\\&\\w+')\n"
     ]
    }
   ],
   "source": [
    "#!pip install keras\n",
    "\n",
    "import numpy as np\n",
    "import pandas as pd\n",
    "import tensorflow as tf\n",
    "import re\n",
    "\n",
    "# import tensorflow.compat.v1 as tf\n",
    "# tf.disable_v2_behavior()\n",
    "\n",
    "import utils as utl\n",
    "from collections import Counter\n",
    "\n",
    "from tensorflow.keras.preprocessing.text import Tokenizer #Change made here to import Tokenizer from tensorflow.keras.preprocessing.text\n",
    "from tensorflow.keras.preprocessing.sequence import pad_sequences #Change made here to import pad_sequences from tensorflow.keras.preprocessing.sequence\n",
    "from tensorflow.keras.utils import to_categorical #Change made here to import to_categorical from tensorflow.keras.utils\n",
    "\n",
    "from tensorflow.keras.layers import Dense, Input, Flatten, Dropout#, Merge #Change made here to import from tensorflow.keras.layers\n",
    "from tensorflow.keras.layers import Conv1D, MaxPooling1D, Embedding #Change made here to import from tensorflow.keras.layers\n",
    "from tensorflow.keras.models import Model"
   ]
  },
  {
   "cell_type": "markdown",
   "metadata": {},
   "source": [
    "## Processing Data"
   ]
  },
  {
   "cell_type": "markdown",
   "metadata": {},
   "source": [
    "#### Read and View Data"
   ]
  },
  {
   "cell_type": "markdown",
   "metadata": {},
   "source": [
    "First we simply read in our data using pandas, pull out our message and sentiment data into numpy arrays. We'll also take a look at a few samples to get familiar with the data set."
   ]
  },
  {
   "cell_type": "code",
   "execution_count": 8,
   "metadata": {},
   "outputs": [
    {
     "name": "stdout",
     "output_type": "stream",
     "text": [
      "Current Working Directory: /Users/langleyburke/Airline Sentiment Analysis Files  2\n"
     ]
    }
   ],
   "source": [
    "import os \n",
    "\n",
    "#Use this to change directory if files are in a folder. \n",
    "os.chdir('/Users/langleyburke/Airline Sentiment Analysis Files ')\n",
    "\n",
    "print(\"Current Working Directory:\", os.getcwd())\n"
   ]
  },
  {
   "cell_type": "code",
   "execution_count": 10,
   "metadata": {
    "scrolled": true
   },
   "outputs": [
    {
     "data": {
      "text/html": [
       "<div>\n",
       "<style scoped>\n",
       "    .dataframe tbody tr th:only-of-type {\n",
       "        vertical-align: middle;\n",
       "    }\n",
       "\n",
       "    .dataframe tbody tr th {\n",
       "        vertical-align: top;\n",
       "    }\n",
       "\n",
       "    .dataframe thead th {\n",
       "        text-align: right;\n",
       "    }\n",
       "</style>\n",
       "<table border=\"1\" class=\"dataframe\">\n",
       "  <thead>\n",
       "    <tr style=\"text-align: right;\">\n",
       "      <th></th>\n",
       "      <th>Airline Name</th>\n",
       "      <th>Overall_Rating</th>\n",
       "      <th>Review_Title</th>\n",
       "      <th>Review Date</th>\n",
       "      <th>Verified</th>\n",
       "      <th>Review</th>\n",
       "      <th>Aircraft</th>\n",
       "      <th>Type Of Traveller</th>\n",
       "      <th>Seat Type</th>\n",
       "      <th>Route</th>\n",
       "      <th>...</th>\n",
       "      <th>Recommended</th>\n",
       "      <th>recommended_numeric</th>\n",
       "      <th>from_city</th>\n",
       "      <th>to_city</th>\n",
       "      <th>from_coords</th>\n",
       "      <th>to_coords</th>\n",
       "      <th>from_lat</th>\n",
       "      <th>from_lon</th>\n",
       "      <th>to_lat</th>\n",
       "      <th>to_lon</th>\n",
       "    </tr>\n",
       "  </thead>\n",
       "  <tbody>\n",
       "    <tr>\n",
       "      <th>0</th>\n",
       "      <td>AB Aviation</td>\n",
       "      <td>9.0</td>\n",
       "      <td>\"pretty decent airline\"</td>\n",
       "      <td>11th November 2019</td>\n",
       "      <td>True</td>\n",
       "      <td>Moroni to Moheli. Turned out to be a pretty ...</td>\n",
       "      <td>NaN</td>\n",
       "      <td>Solo Leisure</td>\n",
       "      <td>Economy Class</td>\n",
       "      <td>Moroni to Moheli</td>\n",
       "      <td>...</td>\n",
       "      <td>Yes</td>\n",
       "      <td>1</td>\n",
       "      <td>Moroni</td>\n",
       "      <td>Moheli</td>\n",
       "      <td>(-11.6931255, 43.2543044)</td>\n",
       "      <td>(-12.32045735, 43.720431326729724)</td>\n",
       "      <td>-11.693126</td>\n",
       "      <td>43.254304</td>\n",
       "      <td>-12.320457</td>\n",
       "      <td>43.720431</td>\n",
       "    </tr>\n",
       "    <tr>\n",
       "      <th>1</th>\n",
       "      <td>AB Aviation</td>\n",
       "      <td>1.0</td>\n",
       "      <td>\"Not a good airline\"</td>\n",
       "      <td>25th June 2019</td>\n",
       "      <td>True</td>\n",
       "      <td>Moroni to Anjouan. It is a very small airline...</td>\n",
       "      <td>E120</td>\n",
       "      <td>Solo Leisure</td>\n",
       "      <td>Economy Class</td>\n",
       "      <td>Moroni to Anjouan</td>\n",
       "      <td>...</td>\n",
       "      <td>No</td>\n",
       "      <td>0</td>\n",
       "      <td>Moroni</td>\n",
       "      <td>Anjouan</td>\n",
       "      <td>(-11.6931255, 43.2543044)</td>\n",
       "      <td>(-12.226568050000001, 44.41070486098224)</td>\n",
       "      <td>-11.693126</td>\n",
       "      <td>43.254304</td>\n",
       "      <td>-12.226568</td>\n",
       "      <td>44.410705</td>\n",
       "    </tr>\n",
       "    <tr>\n",
       "      <th>2</th>\n",
       "      <td>AB Aviation</td>\n",
       "      <td>1.0</td>\n",
       "      <td>\"flight was fortunately short\"</td>\n",
       "      <td>25th June 2019</td>\n",
       "      <td>True</td>\n",
       "      <td>Anjouan to Dzaoudzi. A very small airline an...</td>\n",
       "      <td>Embraer E120</td>\n",
       "      <td>Solo Leisure</td>\n",
       "      <td>Economy Class</td>\n",
       "      <td>Anjouan to Dzaoudzi</td>\n",
       "      <td>...</td>\n",
       "      <td>No</td>\n",
       "      <td>0</td>\n",
       "      <td>Anjouan</td>\n",
       "      <td>Dzaoudzi</td>\n",
       "      <td>(-12.226568050000001, 44.41070486098224)</td>\n",
       "      <td>(-12.782151, 45.2556923)</td>\n",
       "      <td>-12.226568</td>\n",
       "      <td>44.410705</td>\n",
       "      <td>-12.782151</td>\n",
       "      <td>45.255692</td>\n",
       "    </tr>\n",
       "    <tr>\n",
       "      <th>3</th>\n",
       "      <td>Adria Airways</td>\n",
       "      <td>1.0</td>\n",
       "      <td>\"I will never fly again with Adria\"</td>\n",
       "      <td>28th September 2019</td>\n",
       "      <td>False</td>\n",
       "      <td>Please do a favor yourself and do not fly wi...</td>\n",
       "      <td>NaN</td>\n",
       "      <td>Solo Leisure</td>\n",
       "      <td>Economy Class</td>\n",
       "      <td>Frankfurt to Pristina</td>\n",
       "      <td>...</td>\n",
       "      <td>No</td>\n",
       "      <td>0</td>\n",
       "      <td>Frankfurt</td>\n",
       "      <td>Pristina</td>\n",
       "      <td>(50.1106444, 8.6820917)</td>\n",
       "      <td>(42.6638771, 21.1640849)</td>\n",
       "      <td>50.110644</td>\n",
       "      <td>8.682092</td>\n",
       "      <td>42.663877</td>\n",
       "      <td>21.164085</td>\n",
       "    </tr>\n",
       "    <tr>\n",
       "      <th>4</th>\n",
       "      <td>Adria Airways</td>\n",
       "      <td>1.0</td>\n",
       "      <td>\"it ruined our last days of holidays\"</td>\n",
       "      <td>24th September 2019</td>\n",
       "      <td>True</td>\n",
       "      <td>Do not book a flight with this airline! My fr...</td>\n",
       "      <td>NaN</td>\n",
       "      <td>Couple Leisure</td>\n",
       "      <td>Economy Class</td>\n",
       "      <td>Sofia to Amsterdam via Ljubljana</td>\n",
       "      <td>...</td>\n",
       "      <td>No</td>\n",
       "      <td>0</td>\n",
       "      <td>Sofia</td>\n",
       "      <td>Amsterdam</td>\n",
       "      <td>(42.6977028, 23.3217359)</td>\n",
       "      <td>(None, None)</td>\n",
       "      <td>42.697703</td>\n",
       "      <td>23.321736</td>\n",
       "      <td>NaN</td>\n",
       "      <td>NaN</td>\n",
       "    </tr>\n",
       "  </tbody>\n",
       "</table>\n",
       "<p>5 rows × 28 columns</p>\n",
       "</div>"
      ],
      "text/plain": [
       "    Airline Name  Overall_Rating                           Review_Title  \\\n",
       "0    AB Aviation             9.0                \"pretty decent airline\"   \n",
       "1    AB Aviation             1.0                   \"Not a good airline\"   \n",
       "2    AB Aviation             1.0         \"flight was fortunately short\"   \n",
       "3  Adria Airways             1.0    \"I will never fly again with Adria\"   \n",
       "4  Adria Airways             1.0  \"it ruined our last days of holidays\"   \n",
       "\n",
       "           Review Date  Verified  \\\n",
       "0   11th November 2019      True   \n",
       "1       25th June 2019      True   \n",
       "2       25th June 2019      True   \n",
       "3  28th September 2019     False   \n",
       "4  24th September 2019      True   \n",
       "\n",
       "                                              Review       Aircraft  \\\n",
       "0    Moroni to Moheli. Turned out to be a pretty ...            NaN   \n",
       "1   Moroni to Anjouan. It is a very small airline...           E120   \n",
       "2    Anjouan to Dzaoudzi. A very small airline an...  Embraer E120    \n",
       "3    Please do a favor yourself and do not fly wi...            NaN   \n",
       "4   Do not book a flight with this airline! My fr...            NaN   \n",
       "\n",
       "  Type Of Traveller      Seat Type                             Route  ...  \\\n",
       "0      Solo Leisure  Economy Class                  Moroni to Moheli  ...   \n",
       "1      Solo Leisure  Economy Class                 Moroni to Anjouan  ...   \n",
       "2      Solo Leisure  Economy Class               Anjouan to Dzaoudzi  ...   \n",
       "3      Solo Leisure  Economy Class             Frankfurt to Pristina  ...   \n",
       "4    Couple Leisure  Economy Class  Sofia to Amsterdam via Ljubljana  ...   \n",
       "\n",
       "  Recommended  recommended_numeric  from_city    to_city  \\\n",
       "0         Yes                    1     Moroni     Moheli   \n",
       "1          No                    0     Moroni    Anjouan   \n",
       "2          No                    0    Anjouan   Dzaoudzi   \n",
       "3          No                    0  Frankfurt   Pristina   \n",
       "4          No                    0      Sofia  Amsterdam   \n",
       "\n",
       "                                from_coords  \\\n",
       "0                 (-11.6931255, 43.2543044)   \n",
       "1                 (-11.6931255, 43.2543044)   \n",
       "2  (-12.226568050000001, 44.41070486098224)   \n",
       "3                   (50.1106444, 8.6820917)   \n",
       "4                  (42.6977028, 23.3217359)   \n",
       "\n",
       "                                  to_coords   from_lat   from_lon     to_lat  \\\n",
       "0        (-12.32045735, 43.720431326729724) -11.693126  43.254304 -12.320457   \n",
       "1  (-12.226568050000001, 44.41070486098224) -11.693126  43.254304 -12.226568   \n",
       "2                  (-12.782151, 45.2556923) -12.226568  44.410705 -12.782151   \n",
       "3                  (42.6638771, 21.1640849)  50.110644   8.682092  42.663877   \n",
       "4                              (None, None)  42.697703  23.321736        NaN   \n",
       "\n",
       "      to_lon  \n",
       "0  43.720431  \n",
       "1  44.410705  \n",
       "2  45.255692  \n",
       "3  21.164085  \n",
       "4        NaN  \n",
       "\n",
       "[5 rows x 28 columns]"
      ]
     },
     "execution_count": 10,
     "metadata": {},
     "output_type": "execute_result"
    }
   ],
   "source": [
    "# read data from csv file\n",
    "review_data = pd.read_csv(\"updated_Airline_review1.csv\", encoding=\"utf-8\")\n",
    "\n",
    "review_data.head()"
   ]
  },
  {
   "cell_type": "code",
   "execution_count": 8,
   "metadata": {},
   "outputs": [
    {
     "name": "stdout",
     "output_type": "stream",
     "text": [
      "<class 'pandas.core.frame.DataFrame'>\n",
      "RangeIndex: 23140 entries, 0 to 23139\n",
      "Data columns (total 28 columns):\n",
      " #   Column                  Non-Null Count  Dtype  \n",
      "---  ------                  --------------  -----  \n",
      " 0   Airline Name            23140 non-null  object \n",
      " 1   Overall_Rating          22298 non-null  float64\n",
      " 2   Review_Title            23140 non-null  object \n",
      " 3   Review Date             23140 non-null  object \n",
      " 4   Verified                23140 non-null  bool   \n",
      " 5   Review                  23140 non-null  object \n",
      " 6   Aircraft                7122 non-null   object \n",
      " 7   Type Of Traveller       19402 non-null  object \n",
      " 8   Seat Type               22044 non-null  object \n",
      " 9   Route                   19312 non-null  object \n",
      " 10  Date Flown              19387 non-null  object \n",
      " 11  Seat Comfort            18990 non-null  float64\n",
      " 12  Cabin Staff Service     18885 non-null  float64\n",
      " 13  Food & Beverages        14488 non-null  float64\n",
      " 14  Ground Service          18350 non-null  float64\n",
      " 15  Inflight Entertainment  10822 non-null  float64\n",
      " 16  Wifi & Connectivity     5913 non-null   float64\n",
      " 17  Value For Money         22074 non-null  float64\n",
      " 18  Recommended             23140 non-null  object \n",
      " 19  recommended_numeric     23140 non-null  int64  \n",
      " 20  from_city               19249 non-null  object \n",
      " 21  to_city                 19250 non-null  object \n",
      " 22  from_coords             23140 non-null  object \n",
      " 23  to_coords               23140 non-null  object \n",
      " 24  from_lat                23062 non-null  float64\n",
      " 25  from_lon                23062 non-null  float64\n",
      " 26  to_lat                  18976 non-null  float64\n",
      " 27  to_lon                  18976 non-null  float64\n",
      "dtypes: bool(1), float64(12), int64(1), object(14)\n",
      "memory usage: 4.8+ MB\n"
     ]
    }
   ],
   "source": [
    "review_data.info()"
   ]
  },
  {
   "cell_type": "markdown",
   "metadata": {},
   "source": [
    "## Cleaning"
   ]
  },
  {
   "cell_type": "code",
   "execution_count": 49,
   "metadata": {},
   "outputs": [],
   "source": [
    "#If reading in data from Kaggle - but need to run geo too to get coordinates if doing so (Takes two hours so will give the updated data) \n",
    "\n",
    "# Convert the 'Route' column to strings, replacing NaN with an empty string\n",
    "#review_data_original[\"Route\"] = review_data_original[\"Route\"].fillna(\"\").astype(str)\n",
    "\n",
    "# Function to extract 'from' and 'to' cities\n",
    "#def extract_from_to(route):\n",
    "    #match = re.search(r\"(?i)(\\w[\\w\\s]+)\\s+to\\s+(\\w[\\w\\s]+)\", route)\n",
    "    #if match:\n",
    "      #  return match.group(1).strip(), match.group(2).strip()\n",
    "    #return None, None\n",
    "\n",
    "# Apply the function to the Route column\n",
    "#review_data_original[[\"from_city\", \"to_city\"]] = review_data_original[\"Route\"].apply(lambda x: pd.Series(extract_from_to(x)))\n",
    "\n",
    "# Display the updated data\n",
    "#review_data_original.head()"
   ]
  },
  {
   "cell_type": "code",
   "execution_count": 12,
   "metadata": {},
   "outputs": [],
   "source": [
    "review_data['Recommended'] = review_data['Recommended'].replace({'yes': 'Yes', 'no': 'No'})"
   ]
  },
  {
   "cell_type": "code",
   "execution_count": 14,
   "metadata": {},
   "outputs": [
    {
     "name": "stdout",
     "output_type": "stream",
     "text": [
      "   from_city    to_city\n",
      "0     Moroni     Moheli\n",
      "1     Moroni    Anjouan\n",
      "2    Anjouan   Dzaoudzi\n",
      "3  Frankfurt   Pristina\n",
      "4      Sofia  Amsterdam\n"
     ]
    }
   ],
   "source": [
    "# Function to extract the first word (city)\n",
    "def clean_city_name(city_name):\n",
    "    if isinstance(city_name, str):  # Ensure the value is a string\n",
    "        return city_name.split(\" via\")[0]  # Split by space and take the first word\n",
    "    return city_name  # Return the value as is if not a string\n",
    "\n",
    "# Apply the function to 'from_city' and 'to_city' columns\n",
    "review_data['from_city'] = review_data['from_city'].apply(clean_city_name)\n",
    "review_data['to_city'] = review_data['to_city'].apply(clean_city_name)\n",
    "\n",
    "# Display the cleaned columns\n",
    "print(review_data[['from_city', 'to_city']].head())"
   ]
  },
  {
   "cell_type": "code",
   "execution_count": 16,
   "metadata": {},
   "outputs": [
    {
     "name": "stdout",
     "output_type": "stream",
     "text": [
      "['Boston']\n"
     ]
    }
   ],
   "source": [
    "# Assuming your DataFrame is filtered_df and the city column is named 'City'\n",
    "\n",
    "# Filter the rows where 'City' includes \"Boston\"\n",
    "boston_cities = review_data[review_data['to_city'].str.contains(\"Boston\", case=False, na=False)]\n",
    "\n",
    "un_boston_cities = boston_cities['to_city'].unique()\n",
    "\n",
    "print(un_boston_cities)\n"
   ]
  },
  {
   "cell_type": "code",
   "execution_count": 18,
   "metadata": {},
   "outputs": [
    {
     "name": "stdout",
     "output_type": "stream",
     "text": [
      "742      Fez\n",
      "795      Fes\n",
      "797      Fez\n",
      "805      Fez\n",
      "806      Fez\n",
      "        ... \n",
      "21942    Goa\n",
      "21953    Goa\n",
      "21994    Goa\n",
      "22014    Goa\n",
      "22671    Lop\n",
      "Name: to_city, Length: 90, dtype: object\n"
     ]
    }
   ],
   "source": [
    "# Filter cities with exactly three letters\n",
    "three_letter_cities = review_data['to_city'].dropna()  # Remove NaN values\n",
    "three_letter_cities = three_letter_cities[three_letter_cities.str.match(r'^[A-Za-z]{3}$')]\n",
    "\n",
    "# Display the results\n",
    "print(three_letter_cities)"
   ]
  },
  {
   "cell_type": "code",
   "execution_count": 20,
   "metadata": {},
   "outputs": [],
   "source": [
    "import pandas as pd\n",
    "\n",
    "# Step 1: Load the airport codes and city names dataset\n",
    "# Assuming 'airport_df' contains the airport codes and city names\n",
    "airport_code_df = pd.read_csv('Airport Codes.csv')  # Update with the correct file path\n",
    "\n",
    "# Step 2: Create a mapping dictionary from airport codes to city names\n",
    "airport_mapping = dict(zip(airport_code_df['Airport Code'], airport_code_df['City Name']))\n",
    "\n",
    "# Step 2: Replace 3-letter codes in 'to_city' and 'from_city' columns\n",
    "def replace_airport_code_with_city(city):\n",
    "    # Handle NaN values by checking if the city is a valid string with length\n",
    "    if isinstance(city, str) and len(city) == 3 and city in airport_mapping:\n",
    "        return airport_mapping[city]  # Replace with city name\n",
    "    return city  # \n",
    "    \n",
    "# Apply the replacement function to both 'to_city' and 'from_city'\n",
    "review_data['to_city'] = review_data['to_city'].apply(replace_airport_code_with_city)\n",
    "review_data['from_city'] = review_data['from_city'].apply(replace_airport_code_with_city)\n"
   ]
  },
  {
   "cell_type": "code",
   "execution_count": 22,
   "metadata": {},
   "outputs": [],
   "source": [
    "# Apply title case to both 'to_city' and 'from_city' columns\n",
    "review_data['to_city'] = review_data['to_city'].apply(lambda city: city.title() if isinstance(city, str) else city)\n",
    "review_data['from_city'] = review_data['from_city'].apply(lambda city: city.title() if isinstance(city, str) else city)"
   ]
  },
  {
   "cell_type": "code",
   "execution_count": 24,
   "metadata": {},
   "outputs": [],
   "source": [
    "import pandas as pd\n",
    "from unidecode import unidecode\n",
    "\n",
    "# Remove accents from the city names\n",
    "review_data['to_city'] = review_data['to_city'].apply(lambda city: unidecode(city) if isinstance(city, str) else city)\n",
    "review_data['from_city'] = review_data['from_city'].apply(lambda city: unidecode(city) if isinstance(city, str) else city)\n"
   ]
  },
  {
   "cell_type": "code",
   "execution_count": 26,
   "metadata": {},
   "outputs": [],
   "source": [
    "# Remove rows where city name is 'Co', 'Ca', or 'St' in either to_city or from_city\n",
    "review_data = review_data[~review_data['to_city'].isin(['Co', 'Ca', 'St']) & ~review_data['from_city'].isin(['Co', 'Ca', 'St'])]"
   ]
  },
  {
   "cell_type": "code",
   "execution_count": 28,
   "metadata": {},
   "outputs": [],
   "source": [
    "# List of city substrings to be replaced with their full names\n",
    "city_replacements = {\n",
    "    'Lauderdale': 'Fort Lauderdale',\n",
    "    'Boston': 'Boston',     \n",
    "    'Francisco': 'San Francisco',\n",
    "    'Houston': 'Houston',\n",
    "    'Washington': 'Washington',\n",
    "    'London': 'London',\n",
    "    'Atlanta': 'Atlanta',\n",
    "    'Milwaukee': 'Milwaukee',\n",
    "    'Chicago': 'Chicago',\n",
    "    'Sacramento': 'Sacramento',\n",
    "    'Orlando': 'Orlando',\n",
    "    'Dallas': 'Dallas',\n",
    "    'New York': 'New York'\n",
    "}\n",
    "\n",
    "# Function to clean city names based on whether the city contains any of the keywords in city_replacements\n",
    "def clean_city_name(city):\n",
    "    if isinstance(city, str):\n",
    "        for key, replacement in city_replacements.items():\n",
    "            if key in city:\n",
    "                return replacement\n",
    "    return city\n",
    "\n",
    "# Apply the function to both 'to_city' and 'from_city'\n",
    "review_data['to_city'] = review_data['to_city'].apply(clean_city_name)\n",
    "review_data['from_city'] = review_data['from_city'].apply(clean_city_name)\n",
    "\n",
    "    "
   ]
  },
  {
   "cell_type": "code",
   "execution_count": 30,
   "metadata": {},
   "outputs": [],
   "source": [
    "#from geopy.geocoders import Nominatim\n",
    "#import pandas as pd\n",
    "#from tqdm import tqdm\n",
    "\n",
    "# Initialize the geocoder\n",
    "#geolocator = Nominatim(user_agent=\"city_mapper\")\n",
    "\n",
    "# Get a list of unique cities\n",
    "#unique_cities = pd.concat([review_data['from_city'], review_data['to_city']]).unique()\n",
    "\n",
    "\n",
    "# Dictionary to cache results\n",
    "#geo_cache = {}\n",
    "\n",
    "# Function to get coordinates with caching\n",
    "#def get_coordinates_cached(city):\n",
    "    #if not city:  # Skip empty or None values\n",
    "        #return None, None\n",
    "    #if city in geo_cache:  # Return cached result\n",
    "        #return geo_cache[city]\n",
    "    #try:\n",
    "        #location = geolocator.geocode(city, timeout=10)\n",
    "        #if location:\n",
    "           # coords = (location.latitude, location.longitude)\n",
    "          #  geo_cache[city] = coords  # Cache the result\n",
    "         #   return coords\n",
    "   # except Exception as e:\n",
    "    #    print(f\"Error fetching coordinates for {city}: {e}\")\n",
    "   # geo_cache[city] = (None, None)  # Cache failure\n",
    "   # return None, None\n",
    "\n",
    "# Use tqdm to create a progress bar in the console\n",
    "#for city in tqdm(unique_cities, desc=\"Geocoding cities\"):\n",
    "    #get_coordinates(city)\n",
    "\n",
    "# Geocode all unique cities\n",
    "#city_coords = {city: get_coordinates(city) for city in unique_cities}\n",
    "\n",
    "# Create a new column in the dataframe for lat/lon for 'from_city' and 'to_city'\n",
    "#review_data['from_coords'] = review_data['from_city'].apply(lambda city: city_coords.get(city, (None, None)))\n",
    "#review_data['to_coords'] = review_data['to_city'].apply(lambda city: city_coords.get(city, (None, None)))\n",
    "\n",
    "# Separate latitude and longitude into separate columns\n",
    "#review_data[['from_lat', 'from_lon']] = pd.DataFrame(review_data['from_coords'].to_list(), index=review_data.index)\n",
    "#review_data[['to_lat', 'to_lon']] = pd.DataFrame(review_data['to_coords'].to_list(), index=review_data.index)\n",
    "\n",
    "# View the updated dataframe\n",
    "#review_data.head()"
   ]
  },
  {
   "cell_type": "code",
   "execution_count": 32,
   "metadata": {},
   "outputs": [],
   "source": [
    "review_data['recommended_numeric'] = review_data['Recommended'].apply(lambda x: 1 if x == 'Yes' else 0)"
   ]
  },
  {
   "cell_type": "code",
   "execution_count": 34,
   "metadata": {},
   "outputs": [
    {
     "name": "stdout",
     "output_type": "stream",
     "text": [
      "    Airline Name  Overall_Rating                           Review_Title  \\\n",
      "0    AB Aviation             9.0                \"pretty decent airline\"   \n",
      "1    AB Aviation             1.0                   \"Not a good airline\"   \n",
      "2    AB Aviation             1.0         \"flight was fortunately short\"   \n",
      "3  Adria Airways             1.0    \"I will never fly again with Adria\"   \n",
      "4  Adria Airways             1.0  \"it ruined our last days of holidays\"   \n",
      "\n",
      "           Review Date  Verified  \\\n",
      "0   11th November 2019      True   \n",
      "1       25th June 2019      True   \n",
      "2       25th June 2019      True   \n",
      "3  28th September 2019     False   \n",
      "4  24th September 2019      True   \n",
      "\n",
      "                                              Review       Aircraft  \\\n",
      "0    Moroni to Moheli. Turned out to be a pretty ...            NaN   \n",
      "1   Moroni to Anjouan. It is a very small airline...           E120   \n",
      "2    Anjouan to Dzaoudzi. A very small airline an...  Embraer E120    \n",
      "3    Please do a favor yourself and do not fly wi...            NaN   \n",
      "4   Do not book a flight with this airline! My fr...            NaN   \n",
      "\n",
      "  Type Of Traveller      Seat Type                             Route  ...  \\\n",
      "0      Solo Leisure  Economy Class                  Moroni to Moheli  ...   \n",
      "1      Solo Leisure  Economy Class                 Moroni to Anjouan  ...   \n",
      "2      Solo Leisure  Economy Class               Anjouan to Dzaoudzi  ...   \n",
      "3      Solo Leisure  Economy Class             Frankfurt to Pristina  ...   \n",
      "4    Couple Leisure  Economy Class  Sofia to Amsterdam via Ljubljana  ...   \n",
      "\n",
      "  Recommended  recommended_numeric  from_city    to_city  \\\n",
      "0         Yes                    1     Moroni     Moheli   \n",
      "1          No                    0     Moroni    Anjouan   \n",
      "2          No                    0    Anjouan   Dzaoudzi   \n",
      "3          No                    0  Frankfurt   Pristina   \n",
      "4          No                    0      Sofia  Amsterdam   \n",
      "\n",
      "                                from_coords  \\\n",
      "0                 (-11.6931255, 43.2543044)   \n",
      "1                 (-11.6931255, 43.2543044)   \n",
      "2  (-12.226568050000001, 44.41070486098224)   \n",
      "3                   (50.1106444, 8.6820917)   \n",
      "4                  (42.6977028, 23.3217359)   \n",
      "\n",
      "                                  to_coords   from_lat   from_lon     to_lat  \\\n",
      "0        (-12.32045735, 43.720431326729724) -11.693126  43.254304 -12.320457   \n",
      "1  (-12.226568050000001, 44.41070486098224) -11.693126  43.254304 -12.226568   \n",
      "2                  (-12.782151, 45.2556923) -12.226568  44.410705 -12.782151   \n",
      "3                  (42.6638771, 21.1640849)  50.110644   8.682092  42.663877   \n",
      "4                              (None, None)  42.697703  23.321736        NaN   \n",
      "\n",
      "      to_lon  \n",
      "0  43.720431  \n",
      "1  44.410705  \n",
      "2  45.255692  \n",
      "3  21.164085  \n",
      "4        NaN  \n",
      "\n",
      "[5 rows x 28 columns]\n"
     ]
    }
   ],
   "source": [
    "review_data.to_csv('updated_Airline_review1.csv', index=False)\n",
    "\n",
    "# Display the first few rows of the dataframe to confirm\n",
    "print(review_data.head())"
   ]
  },
  {
   "cell_type": "code",
   "execution_count": 36,
   "metadata": {},
   "outputs": [],
   "source": [
    "# Convert 'rating' to numeric\n",
    "review_data['Overall_Rating'] = pd.to_numeric(review_data['Overall_Rating'], errors='coerce')  "
   ]
  },
  {
   "cell_type": "markdown",
   "metadata": {},
   "source": [
    "## Sentiment Review Exploring "
   ]
  },
  {
   "cell_type": "code",
   "execution_count": 38,
   "metadata": {},
   "outputs": [
    {
     "name": "stdout",
     "output_type": "stream",
     "text": [
      "Sentiment Counts:\n",
      "Recommended\n",
      "No     15339\n",
      "Yes     7801\n",
      "Name: count, dtype: int64\n"
     ]
    }
   ],
   "source": [
    "# Summary for categorical columns\n",
    "sentiment_counts = review_data['Recommended'].value_counts()\n",
    "\n",
    "# Show counts for sentiment labels\n",
    "print(\"Sentiment Counts:\")\n",
    "print(sentiment_counts)\n"
   ]
  },
  {
   "cell_type": "code",
   "execution_count": 32,
   "metadata": {},
   "outputs": [
    {
     "name": "stdout",
     "output_type": "stream",
     "text": [
      "Average Review Length: 721.8709161624892 characters\n",
      "Max Review Length: 5080 characters\n"
     ]
    }
   ],
   "source": [
    "# Calculate length of each review\n",
    "review_data['Review_Length'] = review_data['Review'].apply(len)\n",
    "\n",
    "# Get a textual summary of the reviews\n",
    "average_review_length = review_data['Review_Length'].mean()\n",
    "max_review_length = review_data['Review_Length'].max()\n",
    "\n",
    "# Display textual summary\n",
    "print(f\"Average Review Length: {average_review_length} characters\")\n",
    "print(f\"Max Review Length: {max_review_length} characters\")"
   ]
  },
  {
   "cell_type": "code",
   "execution_count": 34,
   "metadata": {},
   "outputs": [
    {
     "name": "stdout",
     "output_type": "stream",
     "text": [
      "Top 10 most common words in reviews:\n",
      "the: 142345\n",
      "to: 109399\n",
      "and: 90457\n",
      "i: 67408\n",
      "a: 60511\n",
      "was: 59899\n",
      "in: 45380\n",
      "flight: 43117\n",
      "for: 37577\n",
      "of: 37491\n"
     ]
    }
   ],
   "source": [
    "# Optionally, you can check for the most frequent words (word cloud or frequency count)\n",
    "from collections import Counter\n",
    "import re\n",
    "\n",
    "# Combine all reviews into one large string\n",
    "all_reviews = ' '.join(review_data['Review'].dropna())\n",
    "\n",
    "# Remove non-alphanumeric characters and split into words\n",
    "words = re.findall(r'\\b\\w+\\b', all_reviews.lower())\n",
    "\n",
    "# Get the 10 most common words\n",
    "word_counts = Counter(words).most_common(10)\n",
    "\n",
    "# Display most common words\n",
    "print(\"Top 10 most common words in reviews:\")\n",
    "for word, count in word_counts:\n",
    "    print(f\"{word}: {count}\")\n"
   ]
  },
  {
   "cell_type": "code",
   "execution_count": 36,
   "metadata": {},
   "outputs": [
    {
     "name": "stdout",
     "output_type": "stream",
     "text": [
      "Messages:   Moroni to Moheli. Turned out to be a pretty decent airline. Online booking worked well, checkin and boarding was fine and the plane looked well maintained. Its a very short flight - just 20 minutes or so so i didn't expect much but they still managed to hand our a bottle of water and some biscuits which i though was very nice. Both flights on time.... Sentiment: yes\n",
      "Messages:  Moroni to Anjouan. It is a very small airline. My ticket advised me to turn up at 0800hrs which I did. There was confusion at this small airport. I was then directed to the office of AB Aviation which was still closed. It opened at 0900hrs and I was told that the flight had been put back to 1300hrs and that they had tried to contact me. This could not be true as they did not have my phone number. I was with a local guide and he had not been informed either. I presume that I was bumped off. The later flight did operate but as usual, there was confusion at check-in. The flight was only 30mins and there were no further problems. Not a good airline but it is the only one for Comoros.... Sentiment: no\n",
      "Messages:   Anjouan to Dzaoudzi. A very small airline and the only airline based in Comoros. Check-in was disorganised because of locals with big packages and disinterested staff. The flight was fortunately short (30 mins). Took off on time and landed on time. With a short flight like there was of course no in-flight entertainment nor cabin service except for biscuits and a bottle of water, which was quite nice!... Sentiment: no\n",
      "Messages:   Please do a favor yourself and do not fly with Adria. On the route from Munich to Pristina in July 2019 they lost my luggage and for 10 days in a row, despite numerous phone calls they were not able to locate it. 11 days later the luggage arrived at the destination completely ruined. Applying for compensation, they ignored my request. Foolishly again, I booked another flight with them (345 euros) Frankfurt - Pristina in September 2019. They cancelled the flight with no reason 24 hours before the departure. Desperate phone calls to customer service to get anything (rerouting, compensation, etc) were not responded. I will never fly again with Adria. What a disgrace! Shame on you Adria for constantly deceiving your customers.... Sentiment: no\n",
      "Messages:  Do not book a flight with this airline! My friend and I should have returned from Sofia to Amsterdam on September 22 and 3 days before, they sent us an SMS informing the flight was cancelled. For 3 straight days we tried to reach the airline and the web agent (e-dreams) and we did not get a solution. Finally, 18 hours before our cancelled flight time, and after 35 minutes on a call (waiting), the airline was able to get us on a flight with Lufthansa. Do not book Adria Airways, it is unreliable and in our case, it ruined our last days of holidays since we needed to be on the phones all day.... Sentiment: no\n",
      "Messages:   Had very bad experience with rerouted and cancelled flights last weekend with Adria airways. Original Route was Ljubljana to Sarajevo return. Two weeks before i received an email that the flight was cancelled. Offered route change was Ljubljana to Sarajevo via Munich. Flight back changed to Sarajevo-Pristina-Ljubljana. I accepted. The first flight via Munich was ok. Two hours before the return flight I got the email that the flight was cancelled. I had to rebook via hotline and had to accept a flight with Croatian to Zagreb. I reached Ljubljana 4 h later and had to organize Transport from Zagreb to Ljubljana on my own cost. Do not book flights with Adria airways. I heard that their financial situation is very very bad.... Sentiment: no\n",
      "Messages:   Ljubljana to Zürich. Firstly, Ljubljana airport is terrible. Badly trained staff, unfriendly. Toilets are very dirty. Flight 2 hours delayed without any information. There is no Information desk so questions aren‘t possible. Never again will use this airline. Its even worse than the budget airlines and thats difficult. ... Sentiment: no\n",
      "Messages:   First of all, I am not complaining about a specific flight. I am a Lufthansa frequent Flyer and I normally fly the route Munich - Timisoara. This summer season Lufthansa offered the flights on this route to Adria Airways, as they are a star alliance member. I can only tell that I have the worst experiences with them. In over 90% of the cases they are late, they don't fly on time. Always they offer the same excuse: they have no slot free. This is an unacceptable excuse, as all other companies flying on similar coridors seem not to have this problem. In addition, as LH Cityline was operating these flights I have almost never heard this excuse, or had this problem. I am flying on this route for 6 years already. They started also to cancel some flights. Maybe combine 2 flights into 1 to spare some money, who knows. The cabin crew is decent - not wow, not bad - but there also also situations when the staff are really rude and not customer oriented. I would recommend anyone to fly with this company. If you have the chance, book another company!... Sentiment: no\n",
      "Messages:   Worst Airline ever! They combined two flights to save costs. Instead of flying Pristina - Ljubliana - Zürich we now fly Pristina - Ljubliana - München - Zürich. Now we arrive 2.5h later at our destination.... Sentiment: no\n",
      "Messages:  Ljubljana to Munich. The homebase airport of Adria Airways is Ljubljana and it very small, relaxing and convenient. It is surrounded by the Alps and the departure was fantastic. The airplane was modern and the crew was nice. Ontime departure. Drinks without alcohol were free and I paid 4€ for my white wine. Considering that I had a cheap ticket I cannot complain. Upgrades would have been available for 30€ - which includes the lounge.... Sentiment: yes\n"
     ]
    }
   ],
   "source": [
    "#get messages and sentiment labels\n",
    "reviews = review_data.Review.values\n",
    "labels = review_data.Recommended.values\n",
    "\n",
    "for i in range(10):\n",
    "    print(\"Messages: {}...\".format(reviews[i]),\n",
    "          \"Sentiment: {}\".format(labels[i]))"
   ]
  },
  {
   "cell_type": "markdown",
   "metadata": {},
   "source": [
    "#### Check Reviews Lengths"
   ]
  },
  {
   "cell_type": "code",
   "execution_count": 71,
   "metadata": {},
   "outputs": [
    {
     "name": "stdout",
     "output_type": "stream",
     "text": [
      "Zero-length messages: 0\n",
      "Maximum message length: 5080\n",
      "Average message length: 721.8190842000777\n"
     ]
    }
   ],
   "source": [
    "review_lens = Counter([len(x) for x in reviews])\n",
    "print(\"Zero-length messages: {}\".format(review_lens[0]))\n",
    "print(\"Maximum message length: {}\".format(max(review_lens)))\n",
    "print(\"Average message length: {}\".format(np.mean([len(x) for x in reviews])))"
   ]
  },
  {
   "cell_type": "code",
   "execution_count": 73,
   "metadata": {},
   "outputs": [],
   "source": [
    "reviews, labels = utl.drop_empty_messages(reviews, labels)"
   ]
  },
  {
   "cell_type": "markdown",
   "metadata": {},
   "source": [
    "#### Preprocess Reviews"
   ]
  },
  {
   "cell_type": "markdown",
   "metadata": {},
   "source": [
    "Want to normalize for known unique words that appear within reviews that carry a similar contextual meaning when analyzing sentiment. "
   ]
  },
  {
   "cell_type": "code",
   "execution_count": 77,
   "metadata": {},
   "outputs": [],
   "source": [
    "reviews = np.array([utl.preprocess_ST_message(Review) for Review in reviews])"
   ]
  },
  {
   "cell_type": "markdown",
   "metadata": {},
   "source": [
    "#### Generate Vocab to Index Mapping"
   ]
  },
  {
   "cell_type": "markdown",
   "metadata": {},
   "source": [
    "Use a Keras `Tokenizer` in order to generate the word index. The tockenizer takes the vocabulary and assigns each word a unique index from 1 to *VOCAB_SIZE*. Zero is reserved for padding."
   ]
  },
  {
   "cell_type": "code",
   "execution_count": 107,
   "metadata": {},
   "outputs": [
    {
     "name": "stdout",
     "output_type": "stream",
     "text": [
      "23043\n"
     ]
    }
   ],
   "source": [
    "VOCAB = sorted(list(set(reviews)))\n",
    "VOCAB_SIZE = len(VOCAB)\n",
    "print(VOCAB_SIZE)"
   ]
  },
  {
   "cell_type": "code",
   "execution_count": 40,
   "metadata": {},
   "outputs": [],
   "source": [
    "tokenizer = Tokenizer(num_words=VOCAB_SIZE)\n",
    "tokenizer.fit_on_texts(reviews)"
   ]
  },
  {
   "cell_type": "code",
   "execution_count": 42,
   "metadata": {
    "scrolled": true
   },
   "outputs": [
    {
     "name": "stdout",
     "output_type": "stream",
     "text": [
      "Found 35253 unique tokens.\n"
     ]
    }
   ],
   "source": [
    "word_index = tokenizer.word_index\n",
    "print('Found %s unique tokens.' % len(word_index))"
   ]
  },
  {
   "cell_type": "code",
   "execution_count": 180,
   "metadata": {},
   "outputs": [],
   "source": [
    "tokenizer_json = tokenizer.to_json()\n",
    "with open('tokenizer.json', 'w') as json_file:\n",
    "    json.dump(tokenizer_json, json_file)\n"
   ]
  },
  {
   "cell_type": "code",
   "execution_count": 46,
   "metadata": {},
   "outputs": [
    {
     "name": "stdout",
     "output_type": "stream",
     "text": [
      "1 - the\n",
      "2 - to\n",
      "3 - and\n",
      "4 - number\n",
      "5 - i\n",
      "6 - a\n",
      "7 - was\n",
      "8 - flight\n",
      "9 - in\n",
      "10 - for\n"
     ]
    }
   ],
   "source": [
    "for word, i in word_index.items():\n",
    "    if i > 10:\n",
    "        break\n",
    "    print(str(i) + ' - ' + word)\n",
    "    "
   ]
  },
  {
   "cell_type": "markdown",
   "metadata": {},
   "source": [
    "#### Encode Reviews and Labels"
   ]
  },
  {
   "cell_type": "code",
   "execution_count": 50,
   "metadata": {},
   "outputs": [],
   "source": [
    "sequences = tokenizer.texts_to_sequences(reviews)"
   ]
  },
  {
   "cell_type": "code",
   "execution_count": 52,
   "metadata": {},
   "outputs": [],
   "source": [
    "labels = to_categorical(utl.encode_ST_labels(labels))"
   ]
  },
  {
   "cell_type": "code",
   "execution_count": 54,
   "metadata": {},
   "outputs": [
    {
     "name": "stdout",
     "output_type": "stream",
     "text": [
      "Unique values in labels: [0. 1.]\n"
     ]
    }
   ],
   "source": [
    "print(\"Unique values in labels:\", np.unique(labels))"
   ]
  },
  {
   "cell_type": "markdown",
   "metadata": {},
   "source": [
    "#### Pad Reviews"
   ]
  },
  {
   "cell_type": "code",
   "execution_count": 58,
   "metadata": {},
   "outputs": [],
   "source": [
    "MAX_SEQUENCE_LENGTH = 750\n",
    "review_data_new = pad_sequences(sequences, maxlen=MAX_SEQUENCE_LENGTH)"
   ]
  },
  {
   "cell_type": "code",
   "execution_count": 60,
   "metadata": {},
   "outputs": [
    {
     "data": {
      "text/plain": [
       "array([[    0,     0,     0, ...,    56,    12,    35],\n",
       "       [    0,     0,     0, ...,    47,    10, 10973],\n",
       "       [    0,     0,     0, ...,     7,   250,   186],\n",
       "       ...,\n",
       "       [    0,     0,     0, ...,   227,     2,   371],\n",
       "       [    0,     0,     0, ...,   108,   457,    17],\n",
       "       [    0,     0,     0, ...,    13,    23,    33]], dtype=int32)"
      ]
     },
     "execution_count": 60,
     "metadata": {},
     "output_type": "execute_result"
    }
   ],
   "source": [
    "review_data_new"
   ]
  },
  {
   "cell_type": "markdown",
   "metadata": {},
   "source": [
    "#### Train and Validation Split"
   ]
  },
  {
   "cell_type": "markdown",
   "metadata": {},
   "source": [
    "The last thing we do is split our data into tranining and validation sets."
   ]
  },
  {
   "cell_type": "code",
   "execution_count": 64,
   "metadata": {},
   "outputs": [],
   "source": [
    "VALIDATION_SPLIT = .2\n",
    "num_validation_samples = int(VALIDATION_SPLIT * review_data_new.shape[0])"
   ]
  },
  {
   "cell_type": "code",
   "execution_count": 66,
   "metadata": {},
   "outputs": [],
   "source": [
    "indices = np.arange(review_data_new.shape[0])\n",
    "np.random.shuffle(indices)\n",
    "review_data_new = review_data_new[indices]\n",
    "labels = labels[indices]"
   ]
  },
  {
   "cell_type": "code",
   "execution_count": 68,
   "metadata": {},
   "outputs": [
    {
     "name": "stdout",
     "output_type": "stream",
     "text": [
      "Training set label distribution: (array([0., 1.]), array([18537, 18537]))\n",
      "Validation set label distribution: (array([0., 1.]), array([4634, 4634]))\n"
     ]
    }
   ],
   "source": [
    "from sklearn.model_selection import train_test_split\n",
    "\n",
    "x_train, x_val, y_train, y_val = train_test_split(\n",
    "    review_data_new,\n",
    "    labels,\n",
    "    test_size=num_validation_samples / len(labels),\n",
    "    stratify=labels,  # Ensures both 0 and 1 are included proportionally\n",
    "    random_state=42   # For reproducibility\n",
    ")\n",
    "\n",
    "# Check unique values and counts in training and validation labels\n",
    "print(\"Training set label distribution:\", np.unique(y_train, return_counts=True))\n",
    "print(\"Validation set label distribution:\", np.unique(y_val, return_counts=True))\n"
   ]
  },
  {
   "cell_type": "markdown",
   "metadata": {},
   "source": [
    "## Building and Training the CNN Network"
   ]
  },
  {
   "cell_type": "markdown",
   "metadata": {},
   "source": [
    "In this section we will load our pretrained word embeddings and build out CNN Model."
   ]
  },
  {
   "cell_type": "markdown",
   "metadata": {},
   "source": [
    "#### Glove Embeddings"
   ]
  },
  {
   "cell_type": "markdown",
   "metadata": {},
   "source": [
    "For this example we will use the wikipedia and giga word 5 GloVe embeddings that can be found at the liink https://nlp.stanford.edu/projects/glove/. We have our embeddings saved in a text file in our data directory so first we load parse these and load them in to a dictionary."
   ]
  },
  {
   "cell_type": "code",
   "execution_count": 74,
   "metadata": {},
   "outputs": [],
   "source": [
    "EMBEDDING_DIM = 50\n",
    "EMBEDDING_FILE = 'Airline Sentiment Analysis Files /glove.6B.50d.txt'\n",
    "\n",
    "def get_embed_coefs(word, *arr): \n",
    "    return word, np.asarray(arr, dtype='float32')"
   ]
  },
  {
   "cell_type": "code",
   "execution_count": 76,
   "metadata": {},
   "outputs": [],
   "source": [
    "embeddings_index = dict(get_embed_coefs(*o.rstrip().rsplit(' ')) for o in open(EMBEDDING_FILE,  encoding=\"utf8\"))"
   ]
  },
  {
   "cell_type": "code",
   "execution_count": 78,
   "metadata": {},
   "outputs": [],
   "source": [
    "embeddings_values=list(embeddings_index.values())\n",
    "all_embs = np.stack(embeddings_values)\n",
    "emb_mean,emb_std = all_embs.mean(), all_embs.std()"
   ]
  },
  {
   "cell_type": "code",
   "execution_count": 80,
   "metadata": {},
   "outputs": [],
   "source": [
    "embedding_matrix = np.random.normal(emb_mean, emb_std, (len(word_index) + 1, EMBEDDING_DIM))"
   ]
  },
  {
   "cell_type": "code",
   "execution_count": 82,
   "metadata": {},
   "outputs": [
    {
     "name": "stdout",
     "output_type": "stream",
     "text": [
      "the - 50 - [ 4.1800e-01  2.4968e-01 -4.1242e-01  1.2170e-01  3.4527e-01 -4.4457e-02\n",
      " -4.9688e-01 -1.7862e-01 -6.6023e-04 -6.5660e-01  2.7843e-01 -1.4767e-01\n",
      " -5.5677e-01  1.4658e-01 -9.5095e-03  1.1658e-02  1.0204e-01 -1.2792e-01\n",
      " -8.4430e-01 -1.2181e-01 -1.6801e-02 -3.3279e-01 -1.5520e-01 -2.3131e-01\n",
      " -1.9181e-01 -1.8823e+00 -7.6746e-01  9.9051e-02 -4.2125e-01 -1.9526e-01\n",
      "  4.0071e+00 -1.8594e-01 -5.2287e-01 -3.1681e-01  5.9213e-04  7.4449e-03\n",
      "  1.7778e-01 -1.5897e-01  1.2041e-02 -5.4223e-02 -2.9871e-01 -1.5749e-01\n",
      " -3.4758e-01 -4.5637e-02 -4.4251e-01  1.8785e-01  2.7849e-03 -1.8411e-01\n",
      " -1.1514e-01 -7.8581e-01]\n",
      "to - 50 - [ 0.68047  -0.039263  0.30186  -0.17792   0.42962   0.032246 -0.41376\n",
      "  0.13228  -0.29847  -0.085253  0.17118   0.22419  -0.10046  -0.43653\n",
      "  0.33418   0.67846   0.057204 -0.34448  -0.42785  -0.43275   0.55963\n",
      "  0.10032   0.18677  -0.26854   0.037334 -2.0932    0.22171  -0.39868\n",
      "  0.20912  -0.55725   3.8826    0.47466  -0.95658  -0.37788   0.20869\n",
      " -0.32752   0.12751   0.088359  0.16351  -0.21634  -0.094375  0.018324\n",
      "  0.21048  -0.03088  -0.19722   0.082279 -0.09434  -0.073297 -0.064699\n",
      " -0.26044 ]\n",
      "and - 50 - [ 0.26818   0.14346  -0.27877   0.016257  0.11384   0.69923  -0.51332\n",
      " -0.47368  -0.33075  -0.13834   0.2702    0.30938  -0.45012  -0.4127\n",
      " -0.09932   0.038085  0.029749  0.10076  -0.25058  -0.51818   0.34558\n",
      "  0.44922   0.48791  -0.080866 -0.10121  -1.3777   -0.10866  -0.23201\n",
      "  0.012839 -0.46508   3.8463    0.31362   0.13643  -0.52244   0.3302\n",
      "  0.33707  -0.35601   0.32431   0.12041   0.3512   -0.069043  0.36885\n",
      "  0.25168  -0.24517   0.25381   0.1367   -0.31178  -0.6321   -0.25028\n",
      " -0.38097 ]\n",
      "number - 50 - [ 0.33614   0.35956   0.97398  -0.11536   0.26715   0.52664  -0.28079\n",
      " -0.15934  -0.018939 -0.33067   0.10573  -0.53051   0.031862 -0.080079\n",
      "  0.82261  -0.7917   -0.10958  -0.46814  -0.39095  -0.64602  -0.021653\n",
      " -0.76659   0.79564   0.59753  -0.12686  -0.69666  -0.88445  -1.0733\n",
      " -0.3196    0.12422   4.0137    0.14167   0.79684  -0.4697    0.70954\n",
      "  0.15874   0.64932  -0.014985 -0.67939   0.29073  -0.2803   -0.096077\n",
      "  0.75959   0.44819  -0.05046  -0.19157  -0.42044   0.080226 -0.23491\n",
      " -0.22272 ]\n",
      "i - 50 - [ 1.1891e-01  1.5255e-01 -8.2073e-02 -7.4144e-01  7.5917e-01 -4.8328e-01\n",
      " -3.1009e-01  5.1476e-01 -9.8708e-01  6.1757e-04 -1.5043e-01  8.3770e-01\n",
      " -1.0797e+00 -5.1460e-01  1.3188e+00  6.2007e-01  1.3779e-01  4.7108e-01\n",
      " -7.2874e-02 -7.2675e-01 -7.4116e-01  7.5263e-01  8.8180e-01  2.9561e-01\n",
      "  1.3548e+00 -2.5701e+00 -1.3523e+00  4.5880e-01  1.0068e+00 -1.1856e+00\n",
      "  3.4737e+00  7.7898e-01 -7.2929e-01  2.5102e-01 -2.6156e-01 -3.4684e-01\n",
      "  5.5841e-01  7.5098e-01  4.9830e-01 -2.6823e-01 -2.7443e-03 -1.8298e-02\n",
      " -2.8096e-01  5.5318e-01  3.7706e-02  1.8555e-01 -1.5025e-01 -5.7512e-01\n",
      " -2.6671e-01  9.2121e-01]\n",
      "a - 50 - [ 0.21705   0.46515  -0.46757   0.10082   1.0135    0.74845  -0.53104\n",
      " -0.26256   0.16812   0.13182  -0.24909  -0.44185  -0.21739   0.51004\n",
      "  0.13448  -0.43141  -0.03123   0.20674  -0.78138  -0.20148  -0.097401\n",
      "  0.16088  -0.61836  -0.18504  -0.12461  -2.2526   -0.22321   0.5043\n",
      "  0.32257   0.15313   3.9636   -0.71365  -0.67012   0.28388   0.21738\n",
      "  0.14433   0.25926   0.23434   0.4274   -0.44451   0.13813   0.36973\n",
      " -0.64289   0.024142 -0.039315 -0.26037   0.12017  -0.043782  0.41013\n",
      "  0.1796  ]\n",
      "was - 50 - [ 0.086888 -0.19416  -0.24267  -0.33391   0.56731   0.39783  -0.97809\n",
      "  0.03159  -0.61469  -0.31406   0.56145   0.12886  -0.84193  -0.46992\n",
      "  0.47097   0.023012 -0.59609   0.22291  -1.1614    0.3865    0.067412\n",
      "  0.44883   0.17394  -0.53574   0.17909  -2.1647   -0.12827   0.29036\n",
      " -0.15061   0.35242   3.124    -0.90085  -0.02567  -0.41709   0.40565\n",
      " -0.22703   0.76829   0.60982   0.070068 -0.13271  -0.1201    0.096132\n",
      " -0.43998  -0.48531  -0.5188   -0.3077   -0.75028  -0.77      0.3945\n",
      " -0.16937 ]\n",
      "flight - 50 - [ 1.7306     0.284     -0.040613  -0.087372  -0.4819    -0.4278\n",
      " -0.65733    0.31632    1.0554    -0.70909    0.57747    0.3628\n",
      " -0.46717    0.97844    0.12695   -0.39876   -1.6432     0.34616\n",
      " -1.9699    -0.40326    0.27543    0.7005    -0.24267   -0.0042508\n",
      "  0.34004   -1.6021     0.06427    0.035409   0.33291    0.25677\n",
      "  2.2611     0.95595   -0.55761   -0.12359    0.74087   -0.47427\n",
      "  0.89383   -0.022107  -0.38237    0.87486   -0.13263    0.069306\n",
      "  1.1166     0.44355   -0.84921    0.039591   0.34486    0.34012\n",
      " -0.097281   0.28005  ]\n",
      "in - 50 - [ 0.33042    0.24995   -0.60874    0.10923    0.036372   0.151\n",
      " -0.55083   -0.074239  -0.092307  -0.32821    0.09598   -0.82269\n",
      " -0.36717   -0.67009    0.42909    0.016496  -0.23573    0.12864\n",
      " -1.0953     0.43334    0.57067   -0.1036     0.20422    0.078308\n",
      " -0.42795   -1.7984    -0.27865    0.11954   -0.12689    0.031744\n",
      "  3.8631    -0.17786   -0.082434  -0.62698    0.26497   -0.057185\n",
      " -0.073521   0.46103    0.30862    0.12498   -0.48609   -0.0080272\n",
      "  0.031184  -0.36576   -0.42699    0.42164   -0.11666   -0.50703\n",
      " -0.027273  -0.53285  ]\n"
     ]
    }
   ],
   "source": [
    "for word, i in word_index.items():\n",
    "    embedding_vector = embeddings_index.get(word)\n",
    "    if embedding_vector is not None: \n",
    "        embedding_matrix[i] = embedding_vector\n",
    "    if i < 10:\n",
    "        print(word + ' - ' + str(len(embedding_vector)) + ' - ' + str(embedding_vector))"
   ]
  },
  {
   "cell_type": "code",
   "execution_count": 84,
   "metadata": {},
   "outputs": [
    {
     "data": {
      "text/plain": [
       "(35254, 50)"
      ]
     },
     "execution_count": 84,
     "metadata": {},
     "output_type": "execute_result"
    }
   ],
   "source": [
    "embedding_matrix.shape"
   ]
  },
  {
   "cell_type": "code",
   "execution_count": 86,
   "metadata": {},
   "outputs": [],
   "source": [
    "from keras.layers import Concatenate, Average   "
   ]
  },
  {
   "cell_type": "markdown",
   "metadata": {},
   "source": [
    "#### Model and Training"
   ]
  },
  {
   "cell_type": "markdown",
   "metadata": {},
   "source": [
    "Here we build the Convoluational Neural Network using Keras. We will use the architecture from the Yoon Kim model (https://arxiv.org/abs/1408.5882) with some adjustments. "
   ]
  },
  {
   "cell_type": "code",
   "execution_count": 121,
   "metadata": {},
   "outputs": [],
   "source": [
    "from keras.layers import GlobalMaxPooling1D\n",
    "\n",
    "\n",
    "def ConvNet(embeddings, max_sequence_length, num_words, embedding_dim, labels_index, trainable=False, extra_conv=True):\n",
    "    embedding_layer = Embedding(num_words,\n",
    "                                embedding_dim,\n",
    "                                weights=[embeddings],\n",
    "                                input_length=max_sequence_length,\n",
    "                                trainable=trainable)\n",
    "\n",
    "    sequence_input = Input(shape=(max_sequence_length,), dtype='int32')\n",
    "    embedded_sequences = embedding_layer(sequence_input)\n",
    "\n",
    "    # Yoon Kim model (https://arxiv.org/abs/1408.5882)\n",
    "    convs = []\n",
    "    filter_sizes = [3, 5, 10, 30]\n",
    "\n",
    "    for filter_size in filter_sizes:\n",
    "        l_conv = Conv1D(filters=128, kernel_size=filter_size, activation='relu')(embedded_sequences)\n",
    "        # Use GlobalMaxPooling1D to avoid size mismatch issues\n",
    "        l_pool = GlobalMaxPooling1D()(l_conv)\n",
    "        convs.append(l_pool)\n",
    "\n",
    "    # Concatenate all the pooled results along axis 1 (features)\n",
    "    l_merge = Concatenate(axis=1)(convs)\n",
    "\n",
    "    # Optional additional convolutional layer with pooling\n",
    "    conv = Conv1D(filters=128, kernel_size=3, activation='relu')(embedded_sequences)\n",
    "    pool = MaxPooling1D(pool_size=3)(conv)\n",
    "    \n",
    "    if extra_conv:\n",
    "        x = Dropout(0.5)(l_merge)  # Use merged layers after global pooling\n",
    "    else:\n",
    "        # Original Yoon Kim model\n",
    "        x = Dropout(0.5)(pool)\n",
    "        \n",
    "    x = Flatten()(x)\n",
    "    x = Dense(128, activation='relu')(x)\n",
    "    preds = Dense(labels_index, activation='softmax')(x)\n",
    "\n",
    "    model = Model(sequence_input, preds)\n",
    "    model.compile(loss='categorical_crossentropy',\n",
    "                  optimizer='adam',\n",
    "                  metrics=['acc'])\n",
    "\n",
    "    return model\n"
   ]
  },
  {
   "cell_type": "code",
   "execution_count": 123,
   "metadata": {},
   "outputs": [],
   "source": [
    "import matplotlib.pyplot as plt\n",
    "plt.style.use('ggplot')\n",
    "\n",
    "def plot_history(history):\n",
    "    acc = history.history['acc']\n",
    "    val_acc = history.history['val_acc']\n",
    "    loss = history.history['loss']\n",
    "    val_loss = history.history['val_loss']\n",
    "    x = range(1, len(acc) + 1)\n",
    "\n",
    "    plt.figure(figsize=(12, 5))\n",
    "    plt.subplot(1, 2, 1)\n",
    "    plt.plot(x, acc, 'b', label='Training acc')\n",
    "    plt.plot(x, val_acc, 'r', label='Validation acc')\n",
    "    plt.title('Training and validation accuracy')\n",
    "    plt.legend()\n",
    "    plt.subplot(1, 2, 2)\n",
    "    plt.plot(x, loss, 'b', label='Training loss')\n",
    "    plt.plot(x, val_loss, 'r', label='Validation loss')\n",
    "    plt.title('Training and validation loss')\n",
    "    plt.legend()"
   ]
  },
  {
   "cell_type": "code",
   "execution_count": 125,
   "metadata": {},
   "outputs": [
    {
     "name": "stderr",
     "output_type": "stream",
     "text": [
      "/opt/anaconda3/lib/python3.12/site-packages/keras/src/layers/core/embedding.py:90: UserWarning: Argument `input_length` is deprecated. Just remove it.\n",
      "  warnings.warn(\n"
     ]
    }
   ],
   "source": [
    "model = ConvNet(embedding_matrix, MAX_SEQUENCE_LENGTH, len(word_index)+1, EMBEDDING_DIM, \n",
    "                len(labels[0]), False)"
   ]
  },
  {
   "cell_type": "code",
   "execution_count": 128,
   "metadata": {},
   "outputs": [
    {
     "name": "stdout",
     "output_type": "stream",
     "text": [
      "Epoch 1/10\n",
      "1854/1854 - 50s - 27ms/step - acc: 0.8168 - loss: 0.4163 - val_acc: 0.8874 - val_loss: 0.2855\n",
      "Epoch 2/10\n",
      "1854/1854 - 49s - 27ms/step - acc: 0.8757 - loss: 0.3056 - val_acc: 0.8863 - val_loss: 0.2898\n",
      "Epoch 3/10\n",
      "1854/1854 - 49s - 27ms/step - acc: 0.8878 - loss: 0.2781 - val_acc: 0.8936 - val_loss: 0.2731\n",
      "Epoch 4/10\n",
      "1854/1854 - 50s - 27ms/step - acc: 0.8982 - loss: 0.2549 - val_acc: 0.8947 - val_loss: 0.2594\n",
      "Epoch 5/10\n",
      "1854/1854 - 50s - 27ms/step - acc: 0.9075 - loss: 0.2295 - val_acc: 0.8940 - val_loss: 0.2597\n",
      "Epoch 6/10\n",
      "1854/1854 - 50s - 27ms/step - acc: 0.9147 - loss: 0.2075 - val_acc: 0.8869 - val_loss: 0.2713\n",
      "Epoch 7/10\n",
      "1854/1854 - 49s - 27ms/step - acc: 0.9287 - loss: 0.1796 - val_acc: 0.8990 - val_loss: 0.2503\n",
      "Epoch 8/10\n",
      "1854/1854 - 50s - 27ms/step - acc: 0.9350 - loss: 0.1590 - val_acc: 0.8886 - val_loss: 0.2877\n",
      "Epoch 9/10\n",
      "1854/1854 - 51s - 27ms/step - acc: 0.9469 - loss: 0.1363 - val_acc: 0.8997 - val_loss: 0.2789\n",
      "Epoch 10/10\n",
      "1854/1854 - 50s - 27ms/step - acc: 0.9509 - loss: 0.1258 - val_acc: 0.9012 - val_loss: 0.2897\n",
      "Training Accuracy: 0.9900\n",
      "Testing Accuracy:  0.9012\n"
     ]
    }
   ],
   "source": [
    "train = model.fit(x_train, y_train,\n",
    "                    epochs=10,\n",
    "                    verbose=2,\n",
    "                    validation_data=(x_val, y_val),\n",
    "                    batch_size=10)\n",
    "loss, accuracy = model.evaluate(x_train, y_train, verbose=False)\n",
    "print(\"Training Accuracy: {:.4f}\".format(accuracy))\n",
    "loss, accuracy = model.evaluate(x_val, y_val, verbose=False)\n",
    "print(\"Testing Accuracy:  {:.4f}\".format(accuracy))\n",
    "\n"
   ]
  },
  {
   "cell_type": "code",
   "execution_count": 130,
   "metadata": {},
   "outputs": [
    {
     "data": {
      "image/png": "[encoded data removed]",
      "text/plain": [
       "<Figure size 1200x500 with 2 Axes>"
      ]
     },
     "metadata": {},
     "output_type": "display_data"
    }
   ],
   "source": [
    "plot_history(train)"
   ]
  },
  {
   "cell_type": "code",
   "execution_count": 138,
   "metadata": {},
   "outputs": [
    {
     "name": "stderr",
     "output_type": "stream",
     "text": [
      "WARNING:absl:You are saving your model as an HDF5 file via `model.save()` or `keras.saving.save_model(model)`. This file format is considered legacy. We recommend using instead the native Keras format, e.g. `model.save('my_model.keras')` or `keras.saving.save_model(model, 'my_model.keras')`. \n"
     ]
    }
   ],
   "source": [
    "# Saving the trained model\n",
    "model.save('model_new_trained2.h5')  # Save the entire model (architecture + weights)"
   ]
  },
  {
   "cell_type": "code",
   "execution_count": 103,
   "metadata": {},
   "outputs": [
    {
     "name": "stdout",
     "output_type": "stream",
     "text": [
      "23043\n"
     ]
    }
   ],
   "source": [
    "print(VOCAB_SIZE)"
   ]
  },
  {
   "cell_type": "code",
   "execution_count": 134,
   "metadata": {
    "tags": []
   },
   "outputs": [
    {
     "data": {
      "text/html": [
       "<pre style=\"white-space:pre;overflow-x:auto;line-height:normal;font-family:Menlo,'DejaVu Sans Mono',consolas,'Courier New',monospace\"><span style=\"font-weight: bold\">Model: \"functional_1\"</span>\n",
       "</pre>\n"
      ],
      "text/plain": [
       "\u001b[1mModel: \"functional_1\"\u001b[0m\n"
      ]
     },
     "metadata": {},
     "output_type": "display_data"
    },
    {
     "data": {
      "text/html": [
       "<pre style=\"white-space:pre;overflow-x:auto;line-height:normal;font-family:Menlo,'DejaVu Sans Mono',consolas,'Courier New',monospace\">┏━━━━━━━━━━━━━━━━━━━━━┳━━━━━━━━━━━━━━━━━━━┳━━━━━━━━━━━━┳━━━━━━━━━━━━━━━━━━━┓\n",
       "┃<span style=\"font-weight: bold\"> Layer (type)        </span>┃<span style=\"font-weight: bold\"> Output Shape      </span>┃<span style=\"font-weight: bold\">    Param # </span>┃<span style=\"font-weight: bold\"> Connected to      </span>┃\n",
       "┡━━━━━━━━━━━━━━━━━━━━━╇━━━━━━━━━━━━━━━━━━━╇━━━━━━━━━━━━╇━━━━━━━━━━━━━━━━━━━┩\n",
       "│ input_layer_3       │ (<span style=\"color: #00d7ff; text-decoration-color: #00d7ff\">None</span>, <span style=\"color: #00af00; text-decoration-color: #00af00\">750</span>)       │          <span style=\"color: #00af00; text-decoration-color: #00af00\">0</span> │ -                 │\n",
       "│ (<span style=\"color: #0087ff; text-decoration-color: #0087ff\">InputLayer</span>)        │                   │            │                   │\n",
       "├─────────────────────┼───────────────────┼────────────┼───────────────────┤\n",
       "│ embedding_3         │ (<span style=\"color: #00d7ff; text-decoration-color: #00d7ff\">None</span>, <span style=\"color: #00af00; text-decoration-color: #00af00\">750</span>, <span style=\"color: #00af00; text-decoration-color: #00af00\">50</span>)   │  <span style=\"color: #00af00; text-decoration-color: #00af00\">1,762,700</span> │ input_layer_3[<span style=\"color: #00af00; text-decoration-color: #00af00\">0</span>]… │\n",
       "│ (<span style=\"color: #0087ff; text-decoration-color: #0087ff\">Embedding</span>)         │                   │            │                   │\n",
       "├─────────────────────┼───────────────────┼────────────┼───────────────────┤\n",
       "│ conv1d_7 (<span style=\"color: #0087ff; text-decoration-color: #0087ff\">Conv1D</span>)   │ (<span style=\"color: #00d7ff; text-decoration-color: #00d7ff\">None</span>, <span style=\"color: #00af00; text-decoration-color: #00af00\">748</span>, <span style=\"color: #00af00; text-decoration-color: #00af00\">128</span>)  │     <span style=\"color: #00af00; text-decoration-color: #00af00\">19,328</span> │ embedding_3[<span style=\"color: #00af00; text-decoration-color: #00af00\">0</span>][<span style=\"color: #00af00; text-decoration-color: #00af00\">0</span>] │\n",
       "├─────────────────────┼───────────────────┼────────────┼───────────────────┤\n",
       "│ conv1d_8 (<span style=\"color: #0087ff; text-decoration-color: #0087ff\">Conv1D</span>)   │ (<span style=\"color: #00d7ff; text-decoration-color: #00d7ff\">None</span>, <span style=\"color: #00af00; text-decoration-color: #00af00\">746</span>, <span style=\"color: #00af00; text-decoration-color: #00af00\">128</span>)  │     <span style=\"color: #00af00; text-decoration-color: #00af00\">32,128</span> │ embedding_3[<span style=\"color: #00af00; text-decoration-color: #00af00\">0</span>][<span style=\"color: #00af00; text-decoration-color: #00af00\">0</span>] │\n",
       "├─────────────────────┼───────────────────┼────────────┼───────────────────┤\n",
       "│ conv1d_9 (<span style=\"color: #0087ff; text-decoration-color: #0087ff\">Conv1D</span>)   │ (<span style=\"color: #00d7ff; text-decoration-color: #00d7ff\">None</span>, <span style=\"color: #00af00; text-decoration-color: #00af00\">741</span>, <span style=\"color: #00af00; text-decoration-color: #00af00\">128</span>)  │     <span style=\"color: #00af00; text-decoration-color: #00af00\">64,128</span> │ embedding_3[<span style=\"color: #00af00; text-decoration-color: #00af00\">0</span>][<span style=\"color: #00af00; text-decoration-color: #00af00\">0</span>] │\n",
       "├─────────────────────┼───────────────────┼────────────┼───────────────────┤\n",
       "│ conv1d_10 (<span style=\"color: #0087ff; text-decoration-color: #0087ff\">Conv1D</span>)  │ (<span style=\"color: #00d7ff; text-decoration-color: #00d7ff\">None</span>, <span style=\"color: #00af00; text-decoration-color: #00af00\">721</span>, <span style=\"color: #00af00; text-decoration-color: #00af00\">128</span>)  │    <span style=\"color: #00af00; text-decoration-color: #00af00\">192,128</span> │ embedding_3[<span style=\"color: #00af00; text-decoration-color: #00af00\">0</span>][<span style=\"color: #00af00; text-decoration-color: #00af00\">0</span>] │\n",
       "├─────────────────────┼───────────────────┼────────────┼───────────────────┤\n",
       "│ global_max_pooling… │ (<span style=\"color: #00d7ff; text-decoration-color: #00d7ff\">None</span>, <span style=\"color: #00af00; text-decoration-color: #00af00\">128</span>)       │          <span style=\"color: #00af00; text-decoration-color: #00af00\">0</span> │ conv1d_7[<span style=\"color: #00af00; text-decoration-color: #00af00\">0</span>][<span style=\"color: #00af00; text-decoration-color: #00af00\">0</span>]    │\n",
       "│ (<span style=\"color: #0087ff; text-decoration-color: #0087ff\">GlobalMaxPooling1…</span> │                   │            │                   │\n",
       "├─────────────────────┼───────────────────┼────────────┼───────────────────┤\n",
       "│ global_max_pooling… │ (<span style=\"color: #00d7ff; text-decoration-color: #00d7ff\">None</span>, <span style=\"color: #00af00; text-decoration-color: #00af00\">128</span>)       │          <span style=\"color: #00af00; text-decoration-color: #00af00\">0</span> │ conv1d_8[<span style=\"color: #00af00; text-decoration-color: #00af00\">0</span>][<span style=\"color: #00af00; text-decoration-color: #00af00\">0</span>]    │\n",
       "│ (<span style=\"color: #0087ff; text-decoration-color: #0087ff\">GlobalMaxPooling1…</span> │                   │            │                   │\n",
       "├─────────────────────┼───────────────────┼────────────┼───────────────────┤\n",
       "│ global_max_pooling… │ (<span style=\"color: #00d7ff; text-decoration-color: #00d7ff\">None</span>, <span style=\"color: #00af00; text-decoration-color: #00af00\">128</span>)       │          <span style=\"color: #00af00; text-decoration-color: #00af00\">0</span> │ conv1d_9[<span style=\"color: #00af00; text-decoration-color: #00af00\">0</span>][<span style=\"color: #00af00; text-decoration-color: #00af00\">0</span>]    │\n",
       "│ (<span style=\"color: #0087ff; text-decoration-color: #0087ff\">GlobalMaxPooling1…</span> │                   │            │                   │\n",
       "├─────────────────────┼───────────────────┼────────────┼───────────────────┤\n",
       "│ global_max_pooling… │ (<span style=\"color: #00d7ff; text-decoration-color: #00d7ff\">None</span>, <span style=\"color: #00af00; text-decoration-color: #00af00\">128</span>)       │          <span style=\"color: #00af00; text-decoration-color: #00af00\">0</span> │ conv1d_10[<span style=\"color: #00af00; text-decoration-color: #00af00\">0</span>][<span style=\"color: #00af00; text-decoration-color: #00af00\">0</span>]   │\n",
       "│ (<span style=\"color: #0087ff; text-decoration-color: #0087ff\">GlobalMaxPooling1…</span> │                   │            │                   │\n",
       "├─────────────────────┼───────────────────┼────────────┼───────────────────┤\n",
       "│ concatenate_1       │ (<span style=\"color: #00d7ff; text-decoration-color: #00d7ff\">None</span>, <span style=\"color: #00af00; text-decoration-color: #00af00\">512</span>)       │          <span style=\"color: #00af00; text-decoration-color: #00af00\">0</span> │ global_max_pooli… │\n",
       "│ (<span style=\"color: #0087ff; text-decoration-color: #0087ff\">Concatenate</span>)       │                   │            │ global_max_pooli… │\n",
       "│                     │                   │            │ global_max_pooli… │\n",
       "│                     │                   │            │ global_max_pooli… │\n",
       "├─────────────────────┼───────────────────┼────────────┼───────────────────┤\n",
       "│ dropout_1 (<span style=\"color: #0087ff; text-decoration-color: #0087ff\">Dropout</span>) │ (<span style=\"color: #00d7ff; text-decoration-color: #00d7ff\">None</span>, <span style=\"color: #00af00; text-decoration-color: #00af00\">512</span>)       │          <span style=\"color: #00af00; text-decoration-color: #00af00\">0</span> │ concatenate_1[<span style=\"color: #00af00; text-decoration-color: #00af00\">0</span>]… │\n",
       "├─────────────────────┼───────────────────┼────────────┼───────────────────┤\n",
       "│ flatten_1 (<span style=\"color: #0087ff; text-decoration-color: #0087ff\">Flatten</span>) │ (<span style=\"color: #00d7ff; text-decoration-color: #00d7ff\">None</span>, <span style=\"color: #00af00; text-decoration-color: #00af00\">512</span>)       │          <span style=\"color: #00af00; text-decoration-color: #00af00\">0</span> │ dropout_1[<span style=\"color: #00af00; text-decoration-color: #00af00\">0</span>][<span style=\"color: #00af00; text-decoration-color: #00af00\">0</span>]   │\n",
       "├─────────────────────┼───────────────────┼────────────┼───────────────────┤\n",
       "│ dense_2 (<span style=\"color: #0087ff; text-decoration-color: #0087ff\">Dense</span>)     │ (<span style=\"color: #00d7ff; text-decoration-color: #00d7ff\">None</span>, <span style=\"color: #00af00; text-decoration-color: #00af00\">128</span>)       │     <span style=\"color: #00af00; text-decoration-color: #00af00\">65,664</span> │ flatten_1[<span style=\"color: #00af00; text-decoration-color: #00af00\">0</span>][<span style=\"color: #00af00; text-decoration-color: #00af00\">0</span>]   │\n",
       "├─────────────────────┼───────────────────┼────────────┼───────────────────┤\n",
       "│ dense_3 (<span style=\"color: #0087ff; text-decoration-color: #0087ff\">Dense</span>)     │ (<span style=\"color: #00d7ff; text-decoration-color: #00d7ff\">None</span>, <span style=\"color: #00af00; text-decoration-color: #00af00\">2</span>)         │        <span style=\"color: #00af00; text-decoration-color: #00af00\">258</span> │ dense_2[<span style=\"color: #00af00; text-decoration-color: #00af00\">0</span>][<span style=\"color: #00af00; text-decoration-color: #00af00\">0</span>]     │\n",
       "└─────────────────────┴───────────────────┴────────────┴───────────────────┘\n",
       "</pre>\n"
      ],
      "text/plain": [
       "┏━━━━━━━━━━━━━━━━━━━━━┳━━━━━━━━━━━━━━━━━━━┳━━━━━━━━━━━━┳━━━━━━━━━━━━━━━━━━━┓\n",
       "┃\u001b[1m \u001b[0m\u001b[1mLayer (type)       \u001b[0m\u001b[1m \u001b[0m┃\u001b[1m \u001b[0m\u001b[1mOutput Shape     \u001b[0m\u001b[1m \u001b[0m┃\u001b[1m \u001b[0m\u001b[1m   Param #\u001b[0m\u001b[1m \u001b[0m┃\u001b[1m \u001b[0m\u001b[1mConnected to     \u001b[0m\u001b[1m \u001b[0m┃\n",
       "┡━━━━━━━━━━━━━━━━━━━━━╇━━━━━━━━━━━━━━━━━━━╇━━━━━━━━━━━━╇━━━━━━━━━━━━━━━━━━━┩\n",
       "│ input_layer_3       │ (\u001b[38;5;45mNone\u001b[0m, \u001b[38;5;34m750\u001b[0m)       │          \u001b[38;5;34m0\u001b[0m │ -                 │\n",
       "│ (\u001b[38;5;33mInputLayer\u001b[0m)        │                   │            │                   │\n",
       "├─────────────────────┼───────────────────┼────────────┼───────────────────┤\n",
       "│ embedding_3         │ (\u001b[38;5;45mNone\u001b[0m, \u001b[38;5;34m750\u001b[0m, \u001b[38;5;34m50\u001b[0m)   │  \u001b[38;5;34m1,762,700\u001b[0m │ input_layer_3[\u001b[38;5;34m0\u001b[0m]… │\n",
       "│ (\u001b[38;5;33mEmbedding\u001b[0m)         │                   │            │                   │\n",
       "├─────────────────────┼───────────────────┼────────────┼───────────────────┤\n",
       "│ conv1d_7 (\u001b[38;5;33mConv1D\u001b[0m)   │ (\u001b[38;5;45mNone\u001b[0m, \u001b[38;5;34m748\u001b[0m, \u001b[38;5;34m128\u001b[0m)  │     \u001b[38;5;34m19,328\u001b[0m │ embedding_3[\u001b[38;5;34m0\u001b[0m][\u001b[38;5;34m0\u001b[0m] │\n",
       "├─────────────────────┼───────────────────┼────────────┼───────────────────┤\n",
       "│ conv1d_8 (\u001b[38;5;33mConv1D\u001b[0m)   │ (\u001b[38;5;45mNone\u001b[0m, \u001b[38;5;34m746\u001b[0m, \u001b[38;5;34m128\u001b[0m)  │     \u001b[38;5;34m32,128\u001b[0m │ embedding_3[\u001b[38;5;34m0\u001b[0m][\u001b[38;5;34m0\u001b[0m] │\n",
       "├─────────────────────┼───────────────────┼────────────┼───────────────────┤\n",
       "│ conv1d_9 (\u001b[38;5;33mConv1D\u001b[0m)   │ (\u001b[38;5;45mNone\u001b[0m, \u001b[38;5;34m741\u001b[0m, \u001b[38;5;34m128\u001b[0m)  │     \u001b[38;5;34m64,128\u001b[0m │ embedding_3[\u001b[38;5;34m0\u001b[0m][\u001b[38;5;34m0\u001b[0m] │\n",
       "├─────────────────────┼───────────────────┼────────────┼───────────────────┤\n",
       "│ conv1d_10 (\u001b[38;5;33mConv1D\u001b[0m)  │ (\u001b[38;5;45mNone\u001b[0m, \u001b[38;5;34m721\u001b[0m, \u001b[38;5;34m128\u001b[0m)  │    \u001b[38;5;34m192,128\u001b[0m │ embedding_3[\u001b[38;5;34m0\u001b[0m][\u001b[38;5;34m0\u001b[0m] │\n",
       "├─────────────────────┼───────────────────┼────────────┼───────────────────┤\n",
       "│ global_max_pooling… │ (\u001b[38;5;45mNone\u001b[0m, \u001b[38;5;34m128\u001b[0m)       │          \u001b[38;5;34m0\u001b[0m │ conv1d_7[\u001b[38;5;34m0\u001b[0m][\u001b[38;5;34m0\u001b[0m]    │\n",
       "│ (\u001b[38;5;33mGlobalMaxPooling1…\u001b[0m │                   │            │                   │\n",
       "├─────────────────────┼───────────────────┼────────────┼───────────────────┤\n",
       "│ global_max_pooling… │ (\u001b[38;5;45mNone\u001b[0m, \u001b[38;5;34m128\u001b[0m)       │          \u001b[38;5;34m0\u001b[0m │ conv1d_8[\u001b[38;5;34m0\u001b[0m][\u001b[38;5;34m0\u001b[0m]    │\n",
       "│ (\u001b[38;5;33mGlobalMaxPooling1…\u001b[0m │                   │            │                   │\n",
       "├─────────────────────┼───────────────────┼────────────┼───────────────────┤\n",
       "│ global_max_pooling… │ (\u001b[38;5;45mNone\u001b[0m, \u001b[38;5;34m128\u001b[0m)       │          \u001b[38;5;34m0\u001b[0m │ conv1d_9[\u001b[38;5;34m0\u001b[0m][\u001b[38;5;34m0\u001b[0m]    │\n",
       "│ (\u001b[38;5;33mGlobalMaxPooling1…\u001b[0m │                   │            │                   │\n",
       "├─────────────────────┼───────────────────┼────────────┼───────────────────┤\n",
       "│ global_max_pooling… │ (\u001b[38;5;45mNone\u001b[0m, \u001b[38;5;34m128\u001b[0m)       │          \u001b[38;5;34m0\u001b[0m │ conv1d_10[\u001b[38;5;34m0\u001b[0m][\u001b[38;5;34m0\u001b[0m]   │\n",
       "│ (\u001b[38;5;33mGlobalMaxPooling1…\u001b[0m │                   │            │                   │\n",
       "├─────────────────────┼───────────────────┼────────────┼───────────────────┤\n",
       "│ concatenate_1       │ (\u001b[38;5;45mNone\u001b[0m, \u001b[38;5;34m512\u001b[0m)       │          \u001b[38;5;34m0\u001b[0m │ global_max_pooli… │\n",
       "│ (\u001b[38;5;33mConcatenate\u001b[0m)       │                   │            │ global_max_pooli… │\n",
       "│                     │                   │            │ global_max_pooli… │\n",
       "│                     │                   │            │ global_max_pooli… │\n",
       "├─────────────────────┼───────────────────┼────────────┼───────────────────┤\n",
       "│ dropout_1 (\u001b[38;5;33mDropout\u001b[0m) │ (\u001b[38;5;45mNone\u001b[0m, \u001b[38;5;34m512\u001b[0m)       │          \u001b[38;5;34m0\u001b[0m │ concatenate_1[\u001b[38;5;34m0\u001b[0m]… │\n",
       "├─────────────────────┼───────────────────┼────────────┼───────────────────┤\n",
       "│ flatten_1 (\u001b[38;5;33mFlatten\u001b[0m) │ (\u001b[38;5;45mNone\u001b[0m, \u001b[38;5;34m512\u001b[0m)       │          \u001b[38;5;34m0\u001b[0m │ dropout_1[\u001b[38;5;34m0\u001b[0m][\u001b[38;5;34m0\u001b[0m]   │\n",
       "├─────────────────────┼───────────────────┼────────────┼───────────────────┤\n",
       "│ dense_2 (\u001b[38;5;33mDense\u001b[0m)     │ (\u001b[38;5;45mNone\u001b[0m, \u001b[38;5;34m128\u001b[0m)       │     \u001b[38;5;34m65,664\u001b[0m │ flatten_1[\u001b[38;5;34m0\u001b[0m][\u001b[38;5;34m0\u001b[0m]   │\n",
       "├─────────────────────┼───────────────────┼────────────┼───────────────────┤\n",
       "│ dense_3 (\u001b[38;5;33mDense\u001b[0m)     │ (\u001b[38;5;45mNone\u001b[0m, \u001b[38;5;34m2\u001b[0m)         │        \u001b[38;5;34m258\u001b[0m │ dense_2[\u001b[38;5;34m0\u001b[0m][\u001b[38;5;34m0\u001b[0m]     │\n",
       "└─────────────────────┴───────────────────┴────────────┴───────────────────┘\n"
      ]
     },
     "metadata": {},
     "output_type": "display_data"
    },
    {
     "data": {
      "text/html": [
       "<pre style=\"white-space:pre;overflow-x:auto;line-height:normal;font-family:Menlo,'DejaVu Sans Mono',consolas,'Courier New',monospace\"><span style=\"font-weight: bold\"> Total params: </span><span style=\"color: #00af00; text-decoration-color: #00af00\">2,883,604</span> (11.00 MB)\n",
       "</pre>\n"
      ],
      "text/plain": [
       "\u001b[1m Total params: \u001b[0m\u001b[38;5;34m2,883,604\u001b[0m (11.00 MB)\n"
      ]
     },
     "metadata": {},
     "output_type": "display_data"
    },
    {
     "data": {
      "text/html": [
       "<pre style=\"white-space:pre;overflow-x:auto;line-height:normal;font-family:Menlo,'DejaVu Sans Mono',consolas,'Courier New',monospace\"><span style=\"font-weight: bold\"> Trainable params: </span><span style=\"color: #00af00; text-decoration-color: #00af00\">373,634</span> (1.43 MB)\n",
       "</pre>\n"
      ],
      "text/plain": [
       "\u001b[1m Trainable params: \u001b[0m\u001b[38;5;34m373,634\u001b[0m (1.43 MB)\n"
      ]
     },
     "metadata": {},
     "output_type": "display_data"
    },
    {
     "data": {
      "text/html": [
       "<pre style=\"white-space:pre;overflow-x:auto;line-height:normal;font-family:Menlo,'DejaVu Sans Mono',consolas,'Courier New',monospace\"><span style=\"font-weight: bold\"> Non-trainable params: </span><span style=\"color: #00af00; text-decoration-color: #00af00\">1,762,700</span> (6.72 MB)\n",
       "</pre>\n"
      ],
      "text/plain": [
       "\u001b[1m Non-trainable params: \u001b[0m\u001b[38;5;34m1,762,700\u001b[0m (6.72 MB)\n"
      ]
     },
     "metadata": {},
     "output_type": "display_data"
    },
    {
     "data": {
      "text/html": [
       "<pre style=\"white-space:pre;overflow-x:auto;line-height:normal;font-family:Menlo,'DejaVu Sans Mono',consolas,'Courier New',monospace\"><span style=\"font-weight: bold\"> Optimizer params: </span><span style=\"color: #00af00; text-decoration-color: #00af00\">747,270</span> (2.85 MB)\n",
       "</pre>\n"
      ],
      "text/plain": [
       "\u001b[1m Optimizer params: \u001b[0m\u001b[38;5;34m747,270\u001b[0m (2.85 MB)\n"
      ]
     },
     "metadata": {},
     "output_type": "display_data"
    }
   ],
   "source": [
    "model.summary()"
   ]
  },
  {
   "cell_type": "code",
   "execution_count": 75,
   "metadata": {},
   "outputs": [
    {
     "name": "stdout",
     "output_type": "stream",
     "text": [
      "\u001b[1m145/145\u001b[0m \u001b[32m━━━━━━━━━━━━━━━━━━━━\u001b[0m\u001b[37m\u001b[0m \u001b[1m0s\u001b[0m 2ms/step\n"
     ]
    }
   ],
   "source": [
    "# Make predictions on the validation set\n",
    "predictions = model.predict(x_val)\n",
    "\n",
    "# Convert probabilities to binary labels (0 for negative, 1 for positive)\n",
    "predictions = (predictions > 0.5).astype(int)  # thresholding at 0.5\n"
   ]
  },
  {
   "cell_type": "code",
   "execution_count": 154,
   "metadata": {},
   "outputs": [
    {
     "name": "stdout",
     "output_type": "stream",
     "text": [
      "\u001b[1m580/580\u001b[0m \u001b[32m━━━━━━━━━━━━━━━━━━━━\u001b[0m\u001b[37m\u001b[0m \u001b[1m1s\u001b[0m 2ms/step\n"
     ]
    }
   ],
   "source": [
    "train_predictions = model.predict(x_train)  # Predict sentiment for the training set\n",
    "\n",
    "# If the model outputs probabilities, convert them to binary labels\n",
    "train_predictions = (train_predictions > 0.5).astype(int)\n",
    "\n",
    "# If the model's predictions are in the form of probabilities for each class\n",
    "train_predictions = np.argmax(train_predictions, axis=1)  # Converts to 1D array with 0 or 1\n"
   ]
  },
  {
   "cell_type": "code",
   "execution_count": 156,
   "metadata": {},
   "outputs": [
    {
     "name": "stdout",
     "output_type": "stream",
     "text": [
      "\u001b[1m145/145\u001b[0m \u001b[32m━━━━━━━━━━━━━━━━━━━━\u001b[0m\u001b[37m\u001b[0m \u001b[1m0s\u001b[0m 2ms/step\n",
      "sentiment\n",
      "0    15546\n",
      "1     7625\n",
      "Name: count, dtype: int64\n"
     ]
    }
   ],
   "source": [
    "# Assuming x_data contains the features used to train your model\n",
    "val_predictions = model.predict(x_val)  # Predict sentiment (0 or 1)\n",
    "\n",
    "# Optionally, if the model outputs probabilities, convert them to binary labels:\n",
    "val_predictions = (val_predictions > 0.5).astype(int)\n",
    "\n",
    "# If the model's predictions are in the form of probabilities for each class\n",
    "val_predictions = np.argmax(val_predictions, axis=1)  # Converts to 1D array with 0 or 1\n",
    "\n",
    "\n",
    "# Assuming the training and validation datasets are combined into one dataframe `df`\n",
    "# You need to concatenate the predictions for both sets\n",
    "all_predictions = np.concatenate([train_predictions, val_predictions])\n",
    "\n",
    "\n",
    "review_data['sentiment'] = all_predictions\n",
    "\n",
    "print(review_data['sentiment'].value_counts())"
   ]
  },
  {
   "cell_type": "code",
   "execution_count": null,
   "metadata": {},
   "outputs": [],
   "source": []
  }
 ],
 "metadata": {
  "anaconda-cloud": {},
  "kernelspec": {
   "display_name": "Python 3 (ipykernel)",
   "language": "python",
   "name": "python3"
  },
  "language_info": {
   "codemirror_mode": {
    "name": "ipython",
    "version": 3
   },
   "file_extension": ".py",
   "mimetype": "text/x-python",
   "name": "python",
   "nbconvert_exporter": "python",
   "pygments_lexer": "ipython3",
   "version": "3.12.4"
  }
 },
 "nbformat": 4,
 "nbformat_minor": 4
}
